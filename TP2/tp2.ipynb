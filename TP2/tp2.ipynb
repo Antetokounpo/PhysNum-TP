{
 "cells": [
  {
   "cell_type": "markdown",
   "metadata": {},
   "source": [
    "# TP 2: Reconstruction tomographique"
   ]
  },
  {
   "cell_type": "markdown",
   "metadata": {},
   "source": [
    "1.  Supposons, pour simplifier, que le corps humain est fait d’eau pure. Grâce à la base de\n",
    "données XCOM du NIST , trouvez le µ de l’eau pour des photons de 60 keV, à une\n",
    "masse volumique de 1.0 $\\text{g}/\\text{cm}^3$. Quelle fraction du signal subsiste après avoir traversé\n",
    "5 cm d’eau ; 20 cm d’eau ?"
   ]
  },
  {
   "cell_type": "code",
   "execution_count": 1,
   "metadata": {},
   "outputs": [
    {
     "name": "stdout",
     "output_type": "stream",
     "text": [
      "Intensité relative après 5 cm : 0.35718550868274057\n",
      "Intensité relative après 20 cm : 0.016277035981532836\n"
     ]
    }
   ],
   "source": [
    "import numpy as np\n",
    "\n",
    "def attenuation_after(distance, mu=2.059e-1):\n",
    "    return np.exp(-mu*distance)\n",
    "\n",
    "print(f\"Intensité relative après 5 cm : {attenuation_after(5)}\")\n",
    "print(f\"Intensité relative après 20 cm : {attenuation_after(20)}\")"
   ]
  }
 ],
 "metadata": {
  "kernelspec": {
   "display_name": "Python 3",
   "language": "python",
   "name": "python3"
  },
  "language_info": {
   "codemirror_mode": {
    "name": "ipython",
    "version": 3
   },
   "file_extension": ".py",
   "mimetype": "text/x-python",
   "name": "python",
   "nbconvert_exporter": "python",
   "pygments_lexer": "ipython3",
   "version": "3.13.2"
  }
 },
 "nbformat": 4,
 "nbformat_minor": 2
}
